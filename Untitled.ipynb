{
 "cells": [
  {
   "cell_type": "code",
   "execution_count": null,
   "metadata": {
    "collapsed": false
   },
   "outputs": [],
   "source": [
    "import nltk \n",
    "nltk.download()"
   ]
  },
  {
   "cell_type": "code",
   "execution_count": 1,
   "metadata": {
    "collapsed": false
   },
   "outputs": [
    {
     "name": "stdout",
     "output_type": "stream",
     "text": [
      "start\n",
      "[[u'funny_story', u'good_story', u'funny_remark', u'funny'], [u'amusing', u'comic', u'comical', u'funny', u'laughable', u'mirthful', u'risible'], [u'curious', u'funny', u'odd', u'peculiar', u'queer', u'rum', u'rummy', u'singular'], [u'fishy', u'funny', u'shady', u'suspect', u'suspicious'], [u'funny']]\n"
     ]
    }
   ],
   "source": [
    "from nltk.corpus import wordnet as wn\n",
    "print(\"start\")\n",
    "listnames = []\n",
    "\n",
    "for i,j in enumerate(wn.synsets('funny')):\n",
    "    listnames.append(j.lemma_names())\n",
    "print (listnames) "
   ]
  },
  {
   "cell_type": "code",
   "execution_count": 3,
   "metadata": {
    "collapsed": false
   },
   "outputs": [
    {
     "data": {
      "text/html": [
       "<div>\n",
       "<table border=\"1\" class=\"dataframe\">\n",
       "  <thead>\n",
       "    <tr style=\"text-align: right;\">\n",
       "      <th></th>\n",
       "      <th>Unnamed: 0</th>\n",
       "      <th>commentCount</th>\n",
       "      <th>dislikeCount</th>\n",
       "      <th>favoriteCount</th>\n",
       "      <th>likeCount</th>\n",
       "      <th>v_id</th>\n",
       "      <th>v_title</th>\n",
       "      <th>viewCount</th>\n",
       "    </tr>\n",
       "  </thead>\n",
       "  <tbody>\n",
       "    <tr>\n",
       "      <th>0</th>\n",
       "      <td>0.0</td>\n",
       "      <td>87</td>\n",
       "      <td>155</td>\n",
       "      <td>0</td>\n",
       "      <td>954</td>\n",
       "      <td>cGKEVtGYr3A</td>\n",
       "      <td>TRY NOT TO LAUGH or GRIN: DeStorm Power Vines ...</td>\n",
       "      <td>140473</td>\n",
       "    </tr>\n",
       "    <tr>\n",
       "      <th>1</th>\n",
       "      <td>1.0</td>\n",
       "      <td>63743</td>\n",
       "      <td>6020</td>\n",
       "      <td>0</td>\n",
       "      <td>363572</td>\n",
       "      <td>aO4dTgt47No</td>\n",
       "      <td>Try Not To Laugh Challenge #4</td>\n",
       "      <td>10085850</td>\n",
       "    </tr>\n",
       "    <tr>\n",
       "      <th>2</th>\n",
       "      <td>2.0</td>\n",
       "      <td>858</td>\n",
       "      <td>1705</td>\n",
       "      <td>0</td>\n",
       "      <td>6999</td>\n",
       "      <td>2B8TjgWgBGg</td>\n",
       "      <td>IMPOSSIBLE NOT TO LAUGH - Funny school fail co...</td>\n",
       "      <td>2315183</td>\n",
       "    </tr>\n",
       "    <tr>\n",
       "      <th>3</th>\n",
       "      <td>3.0</td>\n",
       "      <td>545</td>\n",
       "      <td>1247</td>\n",
       "      <td>0</td>\n",
       "      <td>1341</td>\n",
       "      <td>PQ94T4WAea0</td>\n",
       "      <td>IF YOU LAUGH, YOU LOSE (87% FAIL)</td>\n",
       "      <td>85006</td>\n",
       "    </tr>\n",
       "    <tr>\n",
       "      <th>4</th>\n",
       "      <td>4.0</td>\n",
       "      <td>49203</td>\n",
       "      <td>47778</td>\n",
       "      <td>0</td>\n",
       "      <td>163214</td>\n",
       "      <td>_i4qBHd0FJo</td>\n",
       "      <td>*I BET  MY KIDNEY YOU WILL LAUGH**</td>\n",
       "      <td>12079480</td>\n",
       "    </tr>\n",
       "  </tbody>\n",
       "</table>\n",
       "</div>"
      ],
      "text/plain": [
       "   Unnamed: 0 commentCount dislikeCount favoriteCount likeCount         v_id  \\\n",
       "0         0.0           87          155             0       954  cGKEVtGYr3A   \n",
       "1         1.0        63743         6020             0    363572  aO4dTgt47No   \n",
       "2         2.0          858         1705             0      6999  2B8TjgWgBGg   \n",
       "3         3.0          545         1247             0      1341  PQ94T4WAea0   \n",
       "4         4.0        49203        47778             0    163214  _i4qBHd0FJo   \n",
       "\n",
       "                                             v_title viewCount  \n",
       "0  TRY NOT TO LAUGH or GRIN: DeStorm Power Vines ...    140473  \n",
       "1                      Try Not To Laugh Challenge #4  10085850  \n",
       "2  IMPOSSIBLE NOT TO LAUGH - Funny school fail co...   2315183  \n",
       "3                  IF YOU LAUGH, YOU LOSE (87% FAIL)     85006  \n",
       "4                 *I BET  MY KIDNEY YOU WILL LAUGH**  12079480  "
      ]
     },
     "execution_count": 3,
     "metadata": {},
     "output_type": "execute_result"
    }
   ],
   "source": [
    "import pandas as pd \n",
    "\n",
    "df = pd.read_csv('YTlaughable123.csv', encoding='utf-8')\n",
    "\n",
    "df1 = df.drop_duplicates(['v_title'])\n",
    "\n",
    "df1.head()"
   ]
  },
  {
   "cell_type": "code",
   "execution_count": 4,
   "metadata": {
    "collapsed": false
   },
   "outputs": [
    {
     "data": {
      "text/plain": [
       "(1232, 8)"
      ]
     },
     "execution_count": 4,
     "metadata": {},
     "output_type": "execute_result"
    }
   ],
   "source": [
    "df1.shape"
   ]
  },
  {
   "cell_type": "code",
   "execution_count": 5,
   "metadata": {
    "collapsed": false,
    "scrolled": true
   },
   "outputs": [
    {
     "data": {
      "text/html": [
       "<div>\n",
       "<table border=\"1\" class=\"dataframe\">\n",
       "  <thead>\n",
       "    <tr style=\"text-align: right;\">\n",
       "      <th></th>\n",
       "      <th>users</th>\n",
       "      <th>v_title</th>\n",
       "      <th>Liked</th>\n",
       "    </tr>\n",
       "  </thead>\n",
       "  <tbody>\n",
       "    <tr>\n",
       "      <th>174</th>\n",
       "      <td>Sundhar</td>\n",
       "      <td>👑 Tying Peoples Shoes and Stealing their Stuf...</td>\n",
       "      <td>0</td>\n",
       "    </tr>\n",
       "    <tr>\n",
       "      <th>190</th>\n",
       "      <td>Sundhar</td>\n",
       "      <td>DJANI LYRICS PRANK NA MOJOJ BIVSOJ DJEVOJCI !</td>\n",
       "      <td>1</td>\n",
       "    </tr>\n",
       "    <tr>\n",
       "      <th>331</th>\n",
       "      <td>Chris</td>\n",
       "      <td>Try Not To Laugh Funny Animals Vines - Best Vi...</td>\n",
       "      <td>1</td>\n",
       "    </tr>\n",
       "    <tr>\n",
       "      <th>120</th>\n",
       "      <td>Sundhar</td>\n",
       "      <td>TRY NOT TO LAUGH or GRIN: Funny Fails Vines Co...</td>\n",
       "      <td>0</td>\n",
       "    </tr>\n",
       "    <tr>\n",
       "      <th>113</th>\n",
       "      <td>Sundhar</td>\n",
       "      <td>TRY NOT TO LAUGH or GRIN Funny Fails Vines Com...</td>\n",
       "      <td>0</td>\n",
       "    </tr>\n",
       "    <tr>\n",
       "      <th>460</th>\n",
       "      <td>Patrick</td>\n",
       "      <td>TATTOO PRANK!! (GONE WRONG)</td>\n",
       "      <td>1</td>\n",
       "    </tr>\n",
       "    <tr>\n",
       "      <th>333</th>\n",
       "      <td>Chris</td>\n",
       "      <td>TRY NOT TO LAUGH or GRIN: Funny Kids Fails Com...</td>\n",
       "      <td>1</td>\n",
       "    </tr>\n",
       "    <tr>\n",
       "      <th>587</th>\n",
       "      <td>MarkZ</td>\n",
       "      <td>FIDGET SPINNER IN HAPPY MEAL PRANK</td>\n",
       "      <td>0</td>\n",
       "    </tr>\n",
       "    <tr>\n",
       "      <th>187</th>\n",
       "      <td>Sundhar</td>\n",
       "      <td>THE WORST PRANK OF ALL TIME!!!! (EPIC FAIL)</td>\n",
       "      <td>1</td>\n",
       "    </tr>\n",
       "    <tr>\n",
       "      <th>221</th>\n",
       "      <td>MSD</td>\n",
       "      <td>RUDE: NATO Leaders Laughing at President Donal...</td>\n",
       "      <td>0</td>\n",
       "    </tr>\n",
       "    <tr>\n",
       "      <th>52</th>\n",
       "      <td>Kathir</td>\n",
       "      <td>THE BEST PRANK OF ALL TIME!!!</td>\n",
       "      <td>1</td>\n",
       "    </tr>\n",
       "    <tr>\n",
       "      <th>132</th>\n",
       "      <td>Sundhar</td>\n",
       "      <td>TRY NOT TO LAUGH or GRIN: Funny Fails Compilat...</td>\n",
       "      <td>0</td>\n",
       "    </tr>\n",
       "    <tr>\n",
       "      <th>316</th>\n",
       "      <td>Chris</td>\n",
       "      <td>You laugh you lose #17 - Try not to laugh chal...</td>\n",
       "      <td>0</td>\n",
       "    </tr>\n",
       "    <tr>\n",
       "      <th>27</th>\n",
       "      <td>Kathir</td>\n",
       "      <td>Try Not To Laugh - Funny Animals Compilation 2...</td>\n",
       "      <td>0</td>\n",
       "    </tr>\n",
       "    <tr>\n",
       "      <th>406</th>\n",
       "      <td>Patrick</td>\n",
       "      <td>Try Not To Laugh or Grin While Watching Funny ...</td>\n",
       "      <td>0</td>\n",
       "    </tr>\n",
       "    <tr>\n",
       "      <th>266</th>\n",
       "      <td>MSD</td>\n",
       "      <td>GOLD DIGGER PRANK PART 3! | HoomanTV</td>\n",
       "      <td>0</td>\n",
       "    </tr>\n",
       "    <tr>\n",
       "      <th>569</th>\n",
       "      <td>MarkZ</td>\n",
       "      <td>👑 Tying Peoples Shoes and Stealing their Stuf...</td>\n",
       "      <td>0</td>\n",
       "    </tr>\n",
       "    <tr>\n",
       "      <th>276</th>\n",
       "      <td>MSD</td>\n",
       "      <td>PIZZA DELIVERY PRANK ON MY GIRLFRIEND'S STALKE...</td>\n",
       "      <td>0</td>\n",
       "    </tr>\n",
       "    <tr>\n",
       "      <th>18</th>\n",
       "      <td>Kathir</td>\n",
       "      <td>TRY NOT TO LAUGH or GRIN Funny Fails Vines Com...</td>\n",
       "      <td>0</td>\n",
       "    </tr>\n",
       "    <tr>\n",
       "      <th>434</th>\n",
       "      <td>Patrick</td>\n",
       "      <td>TRY NOT TO LAUGH or GRIN: Funny Fails Compilat...</td>\n",
       "      <td>1</td>\n",
       "    </tr>\n",
       "    <tr>\n",
       "      <th>456</th>\n",
       "      <td>Patrick</td>\n",
       "      <td>BREAKING UP WITH MY GIRLFRIEND *PRANK* GONE WRONG</td>\n",
       "      <td>1</td>\n",
       "    </tr>\n",
       "    <tr>\n",
       "      <th>468</th>\n",
       "      <td>Patrick</td>\n",
       "      <td>Old Man Street Workout Prank | Muscle Madness</td>\n",
       "      <td>0</td>\n",
       "    </tr>\n",
       "    <tr>\n",
       "      <th>306</th>\n",
       "      <td>Chris</td>\n",
       "      <td>Kpop Try Not To Laugh Challenge #8</td>\n",
       "      <td>0</td>\n",
       "    </tr>\n",
       "    <tr>\n",
       "      <th>98</th>\n",
       "      <td>Kathir</td>\n",
       "      <td>10 PRANK SERU YG GAMPANG DILAKUKAN DI RUMAH TA...</td>\n",
       "      <td>0</td>\n",
       "    </tr>\n",
       "    <tr>\n",
       "      <th>104</th>\n",
       "      <td>Sundhar</td>\n",
       "      <td>TRY NOT TO LAUGH or GRIN: Funny Pranks Vines C...</td>\n",
       "      <td>0</td>\n",
       "    </tr>\n",
       "    <tr>\n",
       "      <th>176</th>\n",
       "      <td>Sundhar</td>\n",
       "      <td>FUNNY PRANKS!! ROOMMATE WARS!! Alisha Marie</td>\n",
       "      <td>0</td>\n",
       "    </tr>\n",
       "    <tr>\n",
       "      <th>542</th>\n",
       "      <td>MarkZ</td>\n",
       "      <td>Try to Watch This Without Laughing or Grinning...</td>\n",
       "      <td>1</td>\n",
       "    </tr>\n",
       "    <tr>\n",
       "      <th>167</th>\n",
       "      <td>Sundhar</td>\n",
       "      <td>BLINDFOLD PRANK ON MY GIRLFRIEND</td>\n",
       "      <td>0</td>\n",
       "    </tr>\n",
       "    <tr>\n",
       "      <th>376</th>\n",
       "      <td>Chris</td>\n",
       "      <td>MOR FORELSKET I ALBERT! (PRANK)</td>\n",
       "      <td>1</td>\n",
       "    </tr>\n",
       "    <tr>\n",
       "      <th>218</th>\n",
       "      <td>MSD</td>\n",
       "      <td>You laugh you lose #17 - Try not to laugh chal...</td>\n",
       "      <td>0</td>\n",
       "    </tr>\n",
       "    <tr>\n",
       "      <th>...</th>\n",
       "      <td>...</td>\n",
       "      <td>...</td>\n",
       "      <td>...</td>\n",
       "    </tr>\n",
       "    <tr>\n",
       "      <th>29</th>\n",
       "      <td>Kathir</td>\n",
       "      <td>*TRY NOT TO LAUGH or GRIN* Ultimate Funny Vine...</td>\n",
       "      <td>0</td>\n",
       "    </tr>\n",
       "    <tr>\n",
       "      <th>212</th>\n",
       "      <td>MSD</td>\n",
       "      <td>TRY NOT TO LAUGH or GRIN Funny Fails Vines Com...</td>\n",
       "      <td>0</td>\n",
       "    </tr>\n",
       "    <tr>\n",
       "      <th>43</th>\n",
       "      <td>Kathir</td>\n",
       "      <td>The Best Try Not To Laugh of May 2017 (Dank Me...</td>\n",
       "      <td>1</td>\n",
       "    </tr>\n",
       "    <tr>\n",
       "      <th>242</th>\n",
       "      <td>MSD</td>\n",
       "      <td>TRY NOT TO LAUGH or GRIN Funny Animals Doing S...</td>\n",
       "      <td>1</td>\n",
       "    </tr>\n",
       "    <tr>\n",
       "      <th>466</th>\n",
       "      <td>Patrick</td>\n",
       "      <td>WE GOT JAKE PAUL ARRESTED! *PRANK WARS*</td>\n",
       "      <td>0</td>\n",
       "    </tr>\n",
       "    <tr>\n",
       "      <th>95</th>\n",
       "      <td>Kathir</td>\n",
       "      <td>TYVERI PRANK PÅ KRISTIAN</td>\n",
       "      <td>0</td>\n",
       "    </tr>\n",
       "    <tr>\n",
       "      <th>198</th>\n",
       "      <td>MSD</td>\n",
       "      <td>TRY NOT TO LAUGH or GRIN: DeStorm Power Vines ...</td>\n",
       "      <td>1</td>\n",
       "    </tr>\n",
       "    <tr>\n",
       "      <th>88</th>\n",
       "      <td>Kathir</td>\n",
       "      <td>THE WORST PRANK OF ALL TIME!!!! (EPIC FAIL)</td>\n",
       "      <td>0</td>\n",
       "    </tr>\n",
       "    <tr>\n",
       "      <th>586</th>\n",
       "      <td>MarkZ</td>\n",
       "      <td>1 MILLION ORBEEZ IN GIRLFRIEND'S CAR PRANK!</td>\n",
       "      <td>0</td>\n",
       "    </tr>\n",
       "    <tr>\n",
       "      <th>35</th>\n",
       "      <td>Kathir</td>\n",
       "      <td>Try Not To Laugh Funny Animals Vines - Best Vi...</td>\n",
       "      <td>0</td>\n",
       "    </tr>\n",
       "    <tr>\n",
       "      <th>422</th>\n",
       "      <td>Patrick</td>\n",
       "      <td>Try Not To Laugh - Funny Animals Compilation 2...</td>\n",
       "      <td>0</td>\n",
       "    </tr>\n",
       "    <tr>\n",
       "      <th>157</th>\n",
       "      <td>Sundhar</td>\n",
       "      <td>ITCHING BAIT PHONE PRANK!!</td>\n",
       "      <td>0</td>\n",
       "    </tr>\n",
       "    <tr>\n",
       "      <th>271</th>\n",
       "      <td>MSD</td>\n",
       "      <td>GOLD DIGGER PRANK PART 2! | HoomanTV</td>\n",
       "      <td>0</td>\n",
       "    </tr>\n",
       "    <tr>\n",
       "      <th>245</th>\n",
       "      <td>MSD</td>\n",
       "      <td>Try Not To Laugh or Grin: Funny Vines Compilat...</td>\n",
       "      <td>1</td>\n",
       "    </tr>\n",
       "    <tr>\n",
       "      <th>481</th>\n",
       "      <td>Patrick</td>\n",
       "      <td>| Airport Sending Prank | Flight is Ready By N...</td>\n",
       "      <td>1</td>\n",
       "    </tr>\n",
       "    <tr>\n",
       "      <th>40</th>\n",
       "      <td>Kathir</td>\n",
       "      <td>Try Not To Laugh or Grin - BEST Facebook &amp; Ins...</td>\n",
       "      <td>1</td>\n",
       "    </tr>\n",
       "    <tr>\n",
       "      <th>457</th>\n",
       "      <td>Patrick</td>\n",
       "      <td>My BRO has to STOP **PRANK!**</td>\n",
       "      <td>1</td>\n",
       "    </tr>\n",
       "    <tr>\n",
       "      <th>15</th>\n",
       "      <td>Kathir</td>\n",
       "      <td>TRY NOT TO LAUGH CHALLENGE</td>\n",
       "      <td>0</td>\n",
       "    </tr>\n",
       "    <tr>\n",
       "      <th>181</th>\n",
       "      <td>Sundhar</td>\n",
       "      <td>Killer Clown 9 Scare Prank - Shadow Plays</td>\n",
       "      <td>1</td>\n",
       "    </tr>\n",
       "    <tr>\n",
       "      <th>164</th>\n",
       "      <td>Sundhar</td>\n",
       "      <td>TATTOO PRANK!! (GONE WRONG)</td>\n",
       "      <td>0</td>\n",
       "    </tr>\n",
       "    <tr>\n",
       "      <th>421</th>\n",
       "      <td>Patrick</td>\n",
       "      <td>TRY NOT TO LAUGH or GRIN: Funny Fails Vines Co...</td>\n",
       "      <td>0</td>\n",
       "    </tr>\n",
       "    <tr>\n",
       "      <th>527</th>\n",
       "      <td>MarkZ</td>\n",
       "      <td>TRY NOT TO LAUGH or GRIN: Funny Fails Compilat...</td>\n",
       "      <td>1</td>\n",
       "    </tr>\n",
       "    <tr>\n",
       "      <th>160</th>\n",
       "      <td>Sundhar</td>\n",
       "      <td>BREAKING UP WITH MY GIRLFRIEND *PRANK* GONE WRONG</td>\n",
       "      <td>0</td>\n",
       "    </tr>\n",
       "    <tr>\n",
       "      <th>335</th>\n",
       "      <td>Chris</td>\n",
       "      <td>TRY NOT TO LAUGH or GRIN: Funny Fails Compilat...</td>\n",
       "      <td>1</td>\n",
       "    </tr>\n",
       "    <tr>\n",
       "      <th>478</th>\n",
       "      <td>Patrick</td>\n",
       "      <td>SLIME PRANK ON BROTHERS CAR!</td>\n",
       "      <td>0</td>\n",
       "    </tr>\n",
       "    <tr>\n",
       "      <th>299</th>\n",
       "      <td>Chris</td>\n",
       "      <td>IF YOU LAUGH, YOU LOSE (87% FAIL)</td>\n",
       "      <td>1</td>\n",
       "    </tr>\n",
       "    <tr>\n",
       "      <th>81</th>\n",
       "      <td>Kathir</td>\n",
       "      <td>we got KICKED OUT of our home! (PRANK WARS)</td>\n",
       "      <td>1</td>\n",
       "    </tr>\n",
       "    <tr>\n",
       "      <th>32</th>\n",
       "      <td>Kathir</td>\n",
       "      <td>Try Not To Laugh or Grin - Funny Kids Fails Vi...</td>\n",
       "      <td>0</td>\n",
       "    </tr>\n",
       "    <tr>\n",
       "      <th>525</th>\n",
       "      <td>MarkZ</td>\n",
       "      <td>TRY NOT TO LAUGH or GRIN: Funny Animals Vines ...</td>\n",
       "      <td>1</td>\n",
       "    </tr>\n",
       "    <tr>\n",
       "      <th>591</th>\n",
       "      <td>MarkZ</td>\n",
       "      <td>Epic Prank Compilation: Parents Prank Kids</td>\n",
       "      <td>0</td>\n",
       "    </tr>\n",
       "  </tbody>\n",
       "</table>\n",
       "<p>593 rows × 3 columns</p>\n",
       "</div>"
      ],
      "text/plain": [
       "       users                                            v_title  Liked\n",
       "174  Sundhar  👑 Tying Peoples Shoes and Stealing their Stuf...      0\n",
       "190  Sundhar      DJANI LYRICS PRANK NA MOJOJ BIVSOJ DJEVOJCI !      1\n",
       "331    Chris  Try Not To Laugh Funny Animals Vines - Best Vi...      1\n",
       "120  Sundhar  TRY NOT TO LAUGH or GRIN: Funny Fails Vines Co...      0\n",
       "113  Sundhar  TRY NOT TO LAUGH or GRIN Funny Fails Vines Com...      0\n",
       "460  Patrick                        TATTOO PRANK!! (GONE WRONG)      1\n",
       "333    Chris  TRY NOT TO LAUGH or GRIN: Funny Kids Fails Com...      1\n",
       "587    MarkZ                 FIDGET SPINNER IN HAPPY MEAL PRANK      0\n",
       "187  Sundhar        THE WORST PRANK OF ALL TIME!!!! (EPIC FAIL)      1\n",
       "221      MSD  RUDE: NATO Leaders Laughing at President Donal...      0\n",
       "52    Kathir                      THE BEST PRANK OF ALL TIME!!!      1\n",
       "132  Sundhar  TRY NOT TO LAUGH or GRIN: Funny Fails Compilat...      0\n",
       "316    Chris  You laugh you lose #17 - Try not to laugh chal...      0\n",
       "27    Kathir  Try Not To Laugh - Funny Animals Compilation 2...      0\n",
       "406  Patrick  Try Not To Laugh or Grin While Watching Funny ...      0\n",
       "266      MSD               GOLD DIGGER PRANK PART 3! | HoomanTV      0\n",
       "569    MarkZ  👑 Tying Peoples Shoes and Stealing their Stuf...      0\n",
       "276      MSD  PIZZA DELIVERY PRANK ON MY GIRLFRIEND'S STALKE...      0\n",
       "18    Kathir  TRY NOT TO LAUGH or GRIN Funny Fails Vines Com...      0\n",
       "434  Patrick  TRY NOT TO LAUGH or GRIN: Funny Fails Compilat...      1\n",
       "456  Patrick  BREAKING UP WITH MY GIRLFRIEND *PRANK* GONE WRONG      1\n",
       "468  Patrick      Old Man Street Workout Prank | Muscle Madness      0\n",
       "306    Chris                 Kpop Try Not To Laugh Challenge #8      0\n",
       "98    Kathir  10 PRANK SERU YG GAMPANG DILAKUKAN DI RUMAH TA...      0\n",
       "104  Sundhar  TRY NOT TO LAUGH or GRIN: Funny Pranks Vines C...      0\n",
       "176  Sundhar        FUNNY PRANKS!! ROOMMATE WARS!! Alisha Marie      0\n",
       "542    MarkZ  Try to Watch This Without Laughing or Grinning...      1\n",
       "167  Sundhar                   BLINDFOLD PRANK ON MY GIRLFRIEND      0\n",
       "376    Chris                    MOR FORELSKET I ALBERT! (PRANK)      1\n",
       "218      MSD  You laugh you lose #17 - Try not to laugh chal...      0\n",
       "..       ...                                                ...    ...\n",
       "29    Kathir  *TRY NOT TO LAUGH or GRIN* Ultimate Funny Vine...      0\n",
       "212      MSD  TRY NOT TO LAUGH or GRIN Funny Fails Vines Com...      0\n",
       "43    Kathir  The Best Try Not To Laugh of May 2017 (Dank Me...      1\n",
       "242      MSD  TRY NOT TO LAUGH or GRIN Funny Animals Doing S...      1\n",
       "466  Patrick            WE GOT JAKE PAUL ARRESTED! *PRANK WARS*      0\n",
       "95    Kathir                           TYVERI PRANK PÅ KRISTIAN      0\n",
       "198      MSD  TRY NOT TO LAUGH or GRIN: DeStorm Power Vines ...      1\n",
       "88    Kathir        THE WORST PRANK OF ALL TIME!!!! (EPIC FAIL)      0\n",
       "586    MarkZ        1 MILLION ORBEEZ IN GIRLFRIEND'S CAR PRANK!      0\n",
       "35    Kathir  Try Not To Laugh Funny Animals Vines - Best Vi...      0\n",
       "422  Patrick  Try Not To Laugh - Funny Animals Compilation 2...      0\n",
       "157  Sundhar                         ITCHING BAIT PHONE PRANK!!      0\n",
       "271      MSD               GOLD DIGGER PRANK PART 2! | HoomanTV      0\n",
       "245      MSD  Try Not To Laugh or Grin: Funny Vines Compilat...      1\n",
       "481  Patrick  | Airport Sending Prank | Flight is Ready By N...      1\n",
       "40    Kathir  Try Not To Laugh or Grin - BEST Facebook & Ins...      1\n",
       "457  Patrick                      My BRO has to STOP **PRANK!**      1\n",
       "15    Kathir                         TRY NOT TO LAUGH CHALLENGE      0\n",
       "181  Sundhar          Killer Clown 9 Scare Prank - Shadow Plays      1\n",
       "164  Sundhar                        TATTOO PRANK!! (GONE WRONG)      0\n",
       "421  Patrick  TRY NOT TO LAUGH or GRIN: Funny Fails Vines Co...      0\n",
       "527    MarkZ  TRY NOT TO LAUGH or GRIN: Funny Fails Compilat...      1\n",
       "160  Sundhar  BREAKING UP WITH MY GIRLFRIEND *PRANK* GONE WRONG      0\n",
       "335    Chris  TRY NOT TO LAUGH or GRIN: Funny Fails Compilat...      1\n",
       "478  Patrick                       SLIME PRANK ON BROTHERS CAR!      0\n",
       "299    Chris                  IF YOU LAUGH, YOU LOSE (87% FAIL)      1\n",
       "81    Kathir        we got KICKED OUT of our home! (PRANK WARS)      1\n",
       "32    Kathir  Try Not To Laugh or Grin - Funny Kids Fails Vi...      0\n",
       "525    MarkZ  TRY NOT TO LAUGH or GRIN: Funny Animals Vines ...      1\n",
       "591    MarkZ         Epic Prank Compilation: Parents Prank Kids      0\n",
       "\n",
       "[593 rows x 3 columns]"
      ]
     },
     "execution_count": 5,
     "metadata": {},
     "output_type": "execute_result"
    }
   ],
   "source": [
    "import pandas as pd \n",
    "import graphlab # Need to register for this library but it comes for free to university students \n",
    "\"\"\"\n",
    "graphlab : \n",
    "==========\n",
    "Need to register online for using this library else it will throw an error saying that the product is not registered. \n",
    "\n",
    "Please refer to the following link for further instructions.\n",
    "https://turi.com/download/install-graphlab-create-command-line.html\n",
    "\n",
    "\"\"\"\n",
    "newdf = pd.read_csv('users5times100Videos.csv', encoding='utf-8')\n",
    "from sklearn.utils import shuffle\n",
    "newdf = shuffle(newdf) #Shuffling the dataset in order to randomize the data\n",
    "newdf"
   ]
  },
  {
   "cell_type": "code",
   "execution_count": 6,
   "metadata": {
    "collapsed": false
   },
   "outputs": [
    {
     "name": "stderr",
     "output_type": "stream",
     "text": [
      "[INFO] graphlab.cython.cy_server: GraphLab Create v2.1 started. Logging: C:\\Users\\hp\\AppData\\Local\\Temp\\graphlab_server_1588766352.log.0\n"
     ]
    },
    {
     "name": "stdout",
     "output_type": "stream",
     "text": [
      "This non-commercial license of GraphLab Create for academic use is assigned to ameyp.sunu2017@vitstudent.ac.in and will expire on March 18, 2021.\n"
     ]
    },
    {
     "data": {
      "text/html": [
       "<pre>Recsys training: model = popularity</pre>"
      ],
      "text/plain": [
       "Recsys training: model = popularity"
      ]
     },
     "metadata": {},
     "output_type": "display_data"
    },
    {
     "data": {
      "text/html": [
       "<pre>Preparing data set.</pre>"
      ],
      "text/plain": [
       "Preparing data set."
      ]
     },
     "metadata": {},
     "output_type": "display_data"
    },
    {
     "data": {
      "text/html": [
       "<pre>    Data has 296 observations with 6 users and 99 items.</pre>"
      ],
      "text/plain": [
       "    Data has 296 observations with 6 users and 99 items."
      ]
     },
     "metadata": {},
     "output_type": "display_data"
    },
    {
     "data": {
      "text/html": [
       "<pre>    Data prepared in: 0.003988s</pre>"
      ],
      "text/plain": [
       "    Data prepared in: 0.003988s"
      ]
     },
     "metadata": {},
     "output_type": "display_data"
    },
    {
     "data": {
      "text/html": [
       "<pre>296 observations to process; with 99 unique items.</pre>"
      ],
      "text/plain": [
       "296 observations to process; with 99 unique items."
      ]
     },
     "metadata": {},
     "output_type": "display_data"
    }
   ],
   "source": [
    "train = newdf.ix[:250,:]\n",
    "test = newdf.ix[250:,:]\n",
    "train_data = graphlab.SFrame(train)\n",
    "test_data = graphlab.SFrame(test)\n",
    "popularity_model = graphlab.popularity_recommender.create(train_data, user_id='users', item_id='v_title', target='Liked')"
   ]
  },
  {
   "cell_type": "code",
   "execution_count": 7,
   "metadata": {
    "collapsed": false
   },
   "outputs": [
    {
     "name": "stdout",
     "output_type": "stream",
     "text": [
      "+--------+-------------------------------+-------+------+\n",
      "| users  |            v_title            | score | rank |\n",
      "+--------+-------------------------------+-------+------+\n",
      "| Kathir | PRANK VOLER LA VOITURE DES... |  1.0  |  1   |\n",
      "| Kathir | I WANT TO MAKE A BABY WITH... |  1.0  |  2   |\n",
      "| Kathir | Killer Clown 9 Scare Prank... |  1.0  |  3   |\n",
      "| Kathir | Break Up PRANK turns into ... |  1.0  |  4   |\n",
      "| Kathir | Try Not To Laugh or Grin: ... |  1.0  |  5   |\n",
      "| Kathir | GOLD DIGGER PRANK PART 2! ... |  1.0  |  6   |\n",
      "| Kathir | CUTTING HEADPHONES AT GYM ... |  1.0  |  7   |\n",
      "| Kathir | The Best Try Not To Laugh ... |  1.0  |  8   |\n",
      "| Kathir | TRY NOT TO LAUGH or GRIN: ... |  1.0  |  9   |\n",
      "| Kathir | THE WORST PRANK OF ALL TIM... |  1.0  |  10  |\n",
      "|  MSD   |      Bait Backpack Prank      |  1.0  |  1   |\n",
      "|  MSD   | Bait Backpack Water Balloo... |  1.0  |  2   |\n",
      "|  MSD   | Headless man Prank part 2 ... |  1.0  |  3   |\n",
      "|  MSD   | I WANT TO MAKE A BABY WITH... |  1.0  |  4   |\n",
      "|  MSD   | TRY NOT TO LAUGH (IMPOSSIB... |  1.0  |  5   |\n",
      "|  MSD   | Break Up PRANK turns into ... |  1.0  |  6   |\n",
      "|  MSD   | Try Not To Laugh or Grin: ... |  1.0  |  7   |\n",
      "|  MSD   | GOLD DIGGER PRANK PART 2! ... |  1.0  |  8   |\n",
      "|  MSD   |  SLIME PRANK ON BROTHERS CAR! |  1.0  |  9   |\n",
      "|  MSD   | TRY NOT TO LAUGH or GRIN: ... |  1.0  |  10  |\n",
      "| MarkZ  | Killer Clown 9 Scare Prank... |  1.0  |  1   |\n",
      "| MarkZ  | Break Up PRANK turns into ... |  1.0  |  2   |\n",
      "| MarkZ  | Try Not To Laugh or Grin: ... |  1.0  |  3   |\n",
      "| MarkZ  | GOLD DIGGER PRANK PART 2! ... |  1.0  |  4   |\n",
      "| MarkZ  | CUTTING HEADPHONES AT GYM ... |  1.0  |  5   |\n",
      "+--------+-------------------------------+-------+------+\n",
      "[60 rows x 4 columns]\n",
      "\n"
     ]
    }
   ],
   "source": [
    "#Get recommendations for first 5 users and print them\n",
    "#users = range(1,6) specifies user ID of first 5 users\n",
    "#k=5 specifies top 5 recommendations to be given\n",
    "user_names = ['Kathir','MSD','MarkZ','Chris','Sundhar','Patrick']\n",
    "popularity_recomm = popularity_model.recommend(users=user_names,k=10)\n",
    "popularity_recomm.print_rows(num_rows=25)"
   ]
  },
  {
   "cell_type": "code",
   "execution_count": 8,
   "metadata": {
    "collapsed": false
   },
   "outputs": [
    {
     "data": {
      "text/plain": [
       "v_title\n",
       "*I BET  MY KIDNEY YOU WILL LAUGH**                                                                      1.0\n",
       "PRANK VOLER LA VOITURE DES GENS                                                                         1.0\n",
       "CUTTING HEADPHONES AT GYM PRANK - 2017 Pranks                                                           1.0\n",
       "TRY NOT TO LAUGH (IMPOSSIBLE CHALLENGE) PART 2                                                          1.0\n",
       "THE WORST PRANK OF ALL TIME!!!! (EPIC FAIL)                                                             1.0\n",
       "CAUGHT CHEATING on my Girlfriend PRANK!                                                                 1.0\n",
       "Break Up PRANK turns into PROPOSAL! GONE WRONG!                                                         1.0\n",
       "TRY NOT TO LAUGH or GRIN: Funny Kids Fails Compilation 2017 | Best Kids Fails Vines of May 2017         1.0\n",
       "Bought Fake Louis Vuitton Prank/Gold Digger Test!                                                       1.0\n",
       "The Best Try Not To Laugh of May 2017 (Dank Memes Edition) Part 2                                       1.0\n",
       "Bait Backpack Water Balloon Prank                                                                       1.0\n",
       "Bait Backpack Prank                                                                                     1.0\n",
       "SLIME PRANK ON BROTHERS CAR!                                                                            1.0\n",
       "Try Not To Laugh or Grin: Funny Vines Compilation 2017 | Best Facebook & Instagram Vines May 2017       1.0\n",
       "GOLD DIGGER PRANK PART 2! | HoomanTV                                                                    1.0\n",
       "Naga Chaitanya Prank call to Samantha | Samantha`s epic punch | MUST WATCH | rarandoi veduka chuddam    1.0\n",
       "IMPOSSIBLE NOT TO LAUGH - Funny school fail compilation                                                 1.0\n",
       "Headless man Prank part 2 (slaughter version)- Julien magic                                             1.0\n",
       "I WANT TO MAKE A BABY WITH YOU PRANK!! (CRYING)                                                         1.0\n",
       "Killer Clown 9 Scare Prank - Shadow Plays                                                               1.0\n",
       "Name: Liked, dtype: float64"
      ]
     },
     "execution_count": 8,
     "metadata": {},
     "output_type": "execute_result"
    }
   ],
   "source": [
    "train.groupby(by='v_title')['Liked'].mean().sort_values(ascending=False).head(20)"
   ]
  },
  {
   "cell_type": "code",
   "execution_count": 9,
   "metadata": {
    "collapsed": false
   },
   "outputs": [
    {
     "data": {
      "text/html": [
       "<pre>Recsys training: model = item_similarity</pre>"
      ],
      "text/plain": [
       "Recsys training: model = item_similarity"
      ]
     },
     "metadata": {},
     "output_type": "display_data"
    },
    {
     "data": {
      "text/html": [
       "<pre>Preparing data set.</pre>"
      ],
      "text/plain": [
       "Preparing data set."
      ]
     },
     "metadata": {},
     "output_type": "display_data"
    },
    {
     "data": {
      "text/html": [
       "<pre>    Data has 296 observations with 6 users and 99 items.</pre>"
      ],
      "text/plain": [
       "    Data has 296 observations with 6 users and 99 items."
      ]
     },
     "metadata": {},
     "output_type": "display_data"
    },
    {
     "data": {
      "text/html": [
       "<pre>    Data prepared in: 0.002991s</pre>"
      ],
      "text/plain": [
       "    Data prepared in: 0.002991s"
      ]
     },
     "metadata": {},
     "output_type": "display_data"
    },
    {
     "data": {
      "text/html": [
       "<pre>Training model from provided data.</pre>"
      ],
      "text/plain": [
       "Training model from provided data."
      ]
     },
     "metadata": {},
     "output_type": "display_data"
    },
    {
     "data": {
      "text/html": [
       "<pre>Gathering per-item and per-user statistics.</pre>"
      ],
      "text/plain": [
       "Gathering per-item and per-user statistics."
      ]
     },
     "metadata": {},
     "output_type": "display_data"
    },
    {
     "data": {
      "text/html": [
       "<pre>+--------------------------------+------------+</pre>"
      ],
      "text/plain": [
       "+--------------------------------+------------+"
      ]
     },
     "metadata": {},
     "output_type": "display_data"
    },
    {
     "data": {
      "text/html": [
       "<pre>| Elapsed Time (Item Statistics) | % Complete |</pre>"
      ],
      "text/plain": [
       "| Elapsed Time (Item Statistics) | % Complete |"
      ]
     },
     "metadata": {},
     "output_type": "display_data"
    },
    {
     "data": {
      "text/html": [
       "<pre>+--------------------------------+------------+</pre>"
      ],
      "text/plain": [
       "+--------------------------------+------------+"
      ]
     },
     "metadata": {},
     "output_type": "display_data"
    },
    {
     "data": {
      "text/html": [
       "<pre>| 0us                            | 100        |</pre>"
      ],
      "text/plain": [
       "| 0us                            | 100        |"
      ]
     },
     "metadata": {},
     "output_type": "display_data"
    },
    {
     "data": {
      "text/html": [
       "<pre>+--------------------------------+------------+</pre>"
      ],
      "text/plain": [
       "+--------------------------------+------------+"
      ]
     },
     "metadata": {},
     "output_type": "display_data"
    },
    {
     "data": {
      "text/html": [
       "<pre>Setting up lookup tables.</pre>"
      ],
      "text/plain": [
       "Setting up lookup tables."
      ]
     },
     "metadata": {},
     "output_type": "display_data"
    },
    {
     "data": {
      "text/html": [
       "<pre>Processing data in one pass using dense lookup tables.</pre>"
      ],
      "text/plain": [
       "Processing data in one pass using dense lookup tables."
      ]
     },
     "metadata": {},
     "output_type": "display_data"
    },
    {
     "data": {
      "text/html": [
       "<pre>+-------------------------------------+------------------+-----------------+</pre>"
      ],
      "text/plain": [
       "+-------------------------------------+------------------+-----------------+"
      ]
     },
     "metadata": {},
     "output_type": "display_data"
    },
    {
     "data": {
      "text/html": [
       "<pre>| Elapsed Time (Constructing Lookups) | Total % Complete | Items Processed |</pre>"
      ],
      "text/plain": [
       "| Elapsed Time (Constructing Lookups) | Total % Complete | Items Processed |"
      ]
     },
     "metadata": {},
     "output_type": "display_data"
    },
    {
     "data": {
      "text/html": [
       "<pre>+-------------------------------------+------------------+-----------------+</pre>"
      ],
      "text/plain": [
       "+-------------------------------------+------------------+-----------------+"
      ]
     },
     "metadata": {},
     "output_type": "display_data"
    },
    {
     "data": {
      "text/html": [
       "<pre>| 0us                                 | 24.75            | 24              |</pre>"
      ],
      "text/plain": [
       "| 0us                                 | 24.75            | 24              |"
      ]
     },
     "metadata": {},
     "output_type": "display_data"
    },
    {
     "data": {
      "text/html": [
       "<pre>| 0us                                 | 100              | 99              |</pre>"
      ],
      "text/plain": [
       "| 0us                                 | 100              | 99              |"
      ]
     },
     "metadata": {},
     "output_type": "display_data"
    },
    {
     "data": {
      "text/html": [
       "<pre>+-------------------------------------+------------------+-----------------+</pre>"
      ],
      "text/plain": [
       "+-------------------------------------+------------------+-----------------+"
      ]
     },
     "metadata": {},
     "output_type": "display_data"
    },
    {
     "data": {
      "text/html": [
       "<pre>Finalizing lookup tables.</pre>"
      ],
      "text/plain": [
       "Finalizing lookup tables."
      ]
     },
     "metadata": {},
     "output_type": "display_data"
    },
    {
     "data": {
      "text/html": [
       "<pre>Generating candidate set for working with new users.</pre>"
      ],
      "text/plain": [
       "Generating candidate set for working with new users."
      ]
     },
     "metadata": {},
     "output_type": "display_data"
    },
    {
     "data": {
      "text/html": [
       "<pre>Finished training in 1.01051s</pre>"
      ],
      "text/plain": [
       "Finished training in 1.01051s"
      ]
     },
     "metadata": {},
     "output_type": "display_data"
    },
    {
     "name": "stdout",
     "output_type": "stream",
     "text": [
      "+--------+-------------------------------+----------------+------+\n",
      "| users  |            v_title            |     score      | rank |\n",
      "+--------+-------------------------------+----------------+------+\n",
      "| Kathir | Try Not To Laugh Watching ... | 0.182836054369 |  1   |\n",
      "| Kathir | You laugh you lose #16 - T... | 0.157884933228 |  2   |\n",
      "| Kathir | FUNNY VIDEOS that will mak... | 0.156158097955 |  3   |\n",
      "| Kathir | WE GOT JAKE PAUL ARRESTED!... | 0.156158097955 |  4   |\n",
      "| Kathir | TRY NOT TO LAUGH or GRIN: ... | 0.156158097955 |  5   |\n",
      "| Kathir | TRY NOT TO LAUGH or GRIN: ... | 0.156158097955 |  6   |\n",
      "| Kathir | *The Real* Try Not To Laug... | 0.156158097955 |  7   |\n",
      "| Kathir | Wanna LAUGH LIKE HELL, WAT... | 0.156158097955 |  8   |\n",
      "| Kathir | GOLD DIGGER PRANK PART 1! ... | 0.156158097955 |  9   |\n",
      "| Kathir | Try Not To Laugh or Grin W... | 0.156158097955 |  10  |\n",
      "|  MSD   | TRY NOT TO LAUGH or GRIN: ... | 0.166428993357 |  1   |\n",
      "|  MSD   |  SLIME PRANK ON BROTHERS CAR! | 0.165851434495 |  2   |\n",
      "|  MSD   | Spiderman Prank Joker into... | 0.162529334109 |  3   |\n",
      "|  MSD   |      PRANK ARAB BOMB 2017     | 0.159911627465 |  4   |\n",
      "|  MSD   | Try Not To Laugh Watching ... | 0.155198749076 |  5   |\n",
      "|  MSD   | TRY NOT TO LAUGH Funny Ani... | 0.152097251821 |  6   |\n",
      "|  MSD   | 1 MILLION ORBEEZ IN GIRLFR... | 0.149099817935 |  7   |\n",
      "|  MSD   | TRY NOT TO LAUGH or GRIN: ... | 0.149099817935 |  8   |\n",
      "|  MSD   | TRY NOT TO LAUGH or GRIN: ... | 0.138461520063 |  9   |\n",
      "|  MSD   | Try Not To Laugh Funny Ani... | 0.138461520063 |  10  |\n",
      "| MarkZ  | TRY NOT TO LAUGH or GRIN F... | 0.192571359746 |  1   |\n",
      "| MarkZ  | IMPOSSIBLE NOT TO LAUGH - ... | 0.14705274587  |  2   |\n",
      "| MarkZ  | Bought Fake Louis Vuitton ... | 0.14705274587  |  3   |\n",
      "| MarkZ  | TRY NOT TO LAUGH or GRIN: ... | 0.142868047065 |  4   |\n",
      "| MarkZ  | FUNNY PRANKS!! ROOMMATE WA... | 0.142868047065 |  5   |\n",
      "+--------+-------------------------------+----------------+------+\n",
      "[60 rows x 4 columns]\n",
      "\n"
     ]
    }
   ],
   "source": [
    "#Train Model\n",
    "item_sim_model = graphlab.item_similarity_recommender.create(train_data, user_id='users', item_id='v_title', target='Liked', similarity_type='cosine')\n",
    "\n",
    "#Make Recommendations:\n",
    "item_sim_recomm = item_sim_model.recommend(users=user_names,k=10)\n",
    "item_sim_recomm.print_rows(num_rows=25)"
   ]
  },
  {
   "cell_type": "code",
   "execution_count": 10,
   "metadata": {
    "collapsed": false
   },
   "outputs": [
    {
     "name": "stdout",
     "output_type": "stream",
     "text": [
      "PROGRESS: Evaluate model M0\n",
      "\n",
      "Precision and recall summary statistics by cutoff\n",
      "+--------+----------------+-----------------+\n",
      "| cutoff | mean_precision |   mean_recall   |\n",
      "+--------+----------------+-----------------+\n",
      "|   1    |      1.0       | 0.0206142289854 |\n",
      "|   2    |      1.0       | 0.0412284579707 |\n",
      "|   3    |      1.0       | 0.0618426869561 |\n",
      "|   4    |      1.0       | 0.0824569159415 |\n",
      "|   5    |      1.0       |  0.103071144927 |\n",
      "|   6    |      1.0       |  0.123685373912 |\n",
      "|   7    |      1.0       |  0.144299602898 |\n",
      "|   8    |      1.0       |  0.164913831883 |\n",
      "|   9    |      1.0       |  0.185528060868 |\n",
      "|   10   | 0.983333333333 |  0.202174035885 |\n",
      "+--------+----------------+-----------------+\n",
      "[10 rows x 3 columns]\n",
      "\n",
      "PROGRESS: Evaluate model M1\n",
      "\n",
      "Precision and recall summary statistics by cutoff\n",
      "+--------+----------------+-----------------+\n",
      "| cutoff | mean_precision |   mean_recall   |\n",
      "+--------+----------------+-----------------+\n",
      "|   1    | 0.833333333333 | 0.0166459750171 |\n",
      "|   2    | 0.916666666667 | 0.0372602040025 |\n",
      "|   3    | 0.944444444444 | 0.0578744329879 |\n",
      "|   4    | 0.958333333333 | 0.0784886619732 |\n",
      "|   5    | 0.966666666667 | 0.0991028909586 |\n",
      "|   6    | 0.972222222222 |  0.119717119944 |\n",
      "|   7    | 0.97619047619  |  0.140331348929 |\n",
      "|   8    | 0.979166666667 |  0.160945577915 |\n",
      "|   9    | 0.981481481481 |   0.1815598069  |\n",
      "|   10   | 0.983333333333 |  0.202174035885 |\n",
      "+--------+----------------+-----------------+\n",
      "[10 rows x 3 columns]\n",
      "\n",
      "Model compare metric: precision_recall\n",
      "Canvas is accessible via web browser at the URL: http://localhost:58404/index.html\n",
      "Opening Canvas in default web browser.\n"
     ]
    }
   ],
   "source": [
    "model_performance = graphlab.compare(test_data, [popularity_model, item_sim_model])\n",
    "graphlab.show_comparison(model_performance,[popularity_model, item_sim_model])"
   ]
  },
  {
   "cell_type": "code",
   "execution_count": null,
   "metadata": {
    "collapsed": true
   },
   "outputs": [],
   "source": []
  }
 ],
 "metadata": {
  "kernelspec": {
   "display_name": "Python 2",
   "language": "python",
   "name": "python2"
  },
  "language_info": {
   "codemirror_mode": {
    "name": "ipython",
    "version": 2
   },
   "file_extension": ".py",
   "mimetype": "text/x-python",
   "name": "python",
   "nbconvert_exporter": "python",
   "pygments_lexer": "ipython2",
   "version": "2.7.13"
  }
 },
 "nbformat": 4,
 "nbformat_minor": 4
}
